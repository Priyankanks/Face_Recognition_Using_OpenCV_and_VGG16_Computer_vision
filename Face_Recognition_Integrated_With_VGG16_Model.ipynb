{
 "cells": [
  {
   "cell_type": "code",
   "execution_count": 1,
   "metadata": {
    "id": "HcPyFaZDbhVL"
   },
   "outputs": [],
   "source": [
    "import numpy as np\n",
    "import cv2\n",
    "from tensorflow.keras.models import load_model"
   ]
  },
  {
   "cell_type": "code",
   "execution_count": 2,
   "metadata": {},
   "outputs": [],
   "source": [
    "model = load_model('Face_Recognition_Using_VGG16_And_OpenCV.h5')"
   ]
  },
  {
   "cell_type": "code",
   "execution_count": 3,
   "metadata": {
    "id": "mQo81DP0bh0D"
   },
   "outputs": [],
   "source": [
    "face_classifier = cv2.CascadeClassifier('haarcascade_frontalface_default.xml')"
   ]
  },
  {
   "cell_type": "code",
   "execution_count": 4,
   "metadata": {
    "id": "Nx06h0dJbl37"
   },
   "outputs": [
    {
     "name": "stderr",
     "output_type": "stream",
     "text": [
      "<>:3: SyntaxWarning: \"is\" with a literal. Did you mean \"==\"?\n",
      "<>:3: SyntaxWarning: \"is\" with a literal. Did you mean \"==\"?\n",
      "<ipython-input-4-1b96dfdaeb2e>:3: SyntaxWarning: \"is\" with a literal. Did you mean \"==\"?\n",
      "  if face is ():\n"
     ]
    }
   ],
   "source": [
    "def face_extractor(img):\n",
    "  face = face_classifier.detectMultiScale(img, 1.3, 5)\n",
    "  if face is ():\n",
    "    return None\n",
    "  for x,y,w,h in face:\n",
    "    # pass image, setting initail point, drawline for the width and height, thickness of the line\n",
    "    cv2.rectangle(img, (x,y), (x+w, y+h), (127,0,255), 2)\n",
    "    cropped_face = img[y:y+h, x:x+w]\n",
    "    return cropped_face"
   ]
  },
  {
   "cell_type": "code",
   "execution_count": 5,
   "metadata": {
    "id": "eDvaJ816e9V_"
   },
   "outputs": [],
   "source": [
    "video_capture = cv2.VideoCapture(0)"
   ]
  },
  {
   "cell_type": "code",
   "execution_count": null,
   "metadata": {
    "colab": {
     "base_uri": "https://localhost:8080/",
     "height": 178
    },
    "id": "zSb64Kaacci9",
    "outputId": "ed13cdab-f5ba-47f1-9730-ae95892f978b"
   },
   "outputs": [],
   "source": [
    "while True:\n",
    "  _, frame = video_capture.read()\n",
    "  face = face_extractor(frame)\n",
    "  if type(face) is np.array:\n",
    "    face = cv2.resize(face, (224,224))\n",
    "    im = Image.fromarray(face, 'RGB')\n",
    "    img_array = np.array(im)\n",
    "    img_array = np.expand_dims(img_array, axis = 0)\n",
    "    pred = model.predict(img_array)\n",
    "    print(pred)\n",
    "    name = \"Not Matching\"\n",
    "    if(pred[0][3]>0.5):\n",
    "      name = \"Priyanka\"\n",
    "    cv2.putText(frame, name, (50,50), cv2.FONT_HERSHEY_COMPLEX, 1, (0,255,0), 2)\n",
    "  else:\n",
    "    cv2.putText(frame, 'Not Found', (50,50), cv2.FONT_HERSHEY_COMPLEX, 1, (0,255,0), 2)\n",
    "  cv2.imshow('Video', frame)\n",
    "  if cv2.waitKey()&0xFF == ord('q'):\n",
    "    break\n",
    "video_capture.release()\n",
    "cv2.destroyAllWindows()\n"
   ]
  },
  {
   "cell_type": "code",
   "execution_count": null,
   "metadata": {},
   "outputs": [],
   "source": []
  },
  {
   "cell_type": "code",
   "execution_count": null,
   "metadata": {},
   "outputs": [],
   "source": []
  }
 ],
 "metadata": {
  "accelerator": "GPU",
  "colab": {
   "collapsed_sections": [],
   "name": "Face_Recognition_Integrated_With_VGG16_Model.ipynb",
   "provenance": []
  },
  "kernelspec": {
   "display_name": "Python 3",
   "language": "python",
   "name": "python3"
  },
  "language_info": {
   "codemirror_mode": {
    "name": "ipython",
    "version": 3
   },
   "file_extension": ".py",
   "mimetype": "text/x-python",
   "name": "python",
   "nbconvert_exporter": "python",
   "pygments_lexer": "ipython3",
   "version": "3.8.10"
  }
 },
 "nbformat": 4,
 "nbformat_minor": 1
}
